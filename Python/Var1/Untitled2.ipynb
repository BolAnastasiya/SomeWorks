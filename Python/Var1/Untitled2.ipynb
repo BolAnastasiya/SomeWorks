{
 "cells": [
  {
   "cell_type": "markdown",
   "id": "98b096e4",
   "metadata": {},
   "source": [
    "# Import\n"
   ]
  },
  {
   "cell_type": "code",
   "execution_count": 1,
   "id": "31ed807d",
   "metadata": {},
   "outputs": [],
   "source": [
    "import pandas as pd\n",
    "import numpy as np\n",
    "from sklearn.cluster import KMeans\n",
    "from sklearn.preprocessing import StandardScaler\n",
    "import re"
   ]
  },
  {
   "cell_type": "markdown",
   "id": "2f6c4f48",
   "metadata": {},
   "source": [
    "# Прочитать данные"
   ]
  },
  {
   "cell_type": "code",
   "execution_count": 2,
   "id": "46f96e24",
   "metadata": {},
   "outputs": [
    {
     "name": "stderr",
     "output_type": "stream",
     "text": [
      "C:\\Users\\artem\\AppData\\Local\\Temp\\ipykernel_21664\\864136257.py:1: DtypeWarning: Columns (5) have mixed types. Specify dtype option on import or set low_memory=False.\n",
      "  df = pd.read_csv(r'данные\\train_1.csv', delimiter = ';')\n"
     ]
    }
   ],
   "source": [
    "df = pd.read_csv(r'данные\\train_1.csv', delimiter = ';')"
   ]
  },
  {
   "cell_type": "code",
   "execution_count": 3,
   "id": "be3cd9d8",
   "metadata": {},
   "outputs": [
    {
     "data": {
      "text/html": [
       "<div>\n",
       "<style scoped>\n",
       "    .dataframe tbody tr th:only-of-type {\n",
       "        vertical-align: middle;\n",
       "    }\n",
       "\n",
       "    .dataframe tbody tr th {\n",
       "        vertical-align: top;\n",
       "    }\n",
       "\n",
       "    .dataframe thead th {\n",
       "        text-align: right;\n",
       "    }\n",
       "</style>\n",
       "<table border=\"1\" class=\"dataframe\">\n",
       "  <thead>\n",
       "    <tr style=\"text-align: right;\">\n",
       "      <th></th>\n",
       "      <th>ID</th>\n",
       "      <th>PROD_TYPE</th>\n",
       "      <th>TRANS_DTTM</th>\n",
       "      <th>MCC_CODE</th>\n",
       "      <th>SUM_TRANS</th>\n",
       "      <th>LOCATION_NAME</th>\n",
       "    </tr>\n",
       "  </thead>\n",
       "  <tbody>\n",
       "    <tr>\n",
       "      <th>0</th>\n",
       "      <td>500000001271933224</td>\n",
       "      <td>1</td>\n",
       "      <td>31.10.2021 16:04:58</td>\n",
       "      <td>5411</td>\n",
       "      <td>411,45</td>\n",
       "      <td>VERNYJ 1263\\5A GORKOGO STR\\SERPUKHOV\\142203   ...</td>\n",
       "    </tr>\n",
       "    <tr>\n",
       "      <th>1</th>\n",
       "      <td>500000001089710588</td>\n",
       "      <td>2</td>\n",
       "      <td>20.08.2021 18:00:39</td>\n",
       "      <td>7311</td>\n",
       "      <td>503</td>\n",
       "      <td>AVITO\\7 LESNAYA STR\\MOSCOW\\125196    RUSRUS</td>\n",
       "    </tr>\n",
       "    <tr>\n",
       "      <th>2</th>\n",
       "      <td>500000000004725733</td>\n",
       "      <td>1</td>\n",
       "      <td>31.10.2021 7:28:47</td>\n",
       "      <td>5411</td>\n",
       "      <td>119,24</td>\n",
       "      <td>STOLITSA\\14 POBEDY PR-T\\KOMSOM-NA-AMU\\681029  ...</td>\n",
       "    </tr>\n",
       "    <tr>\n",
       "      <th>3</th>\n",
       "      <td>500000000608267511</td>\n",
       "      <td>2</td>\n",
       "      <td>31.10.2021 16:03:14</td>\n",
       "      <td>5411</td>\n",
       "      <td>249,95</td>\n",
       "      <td>VERNYJ 1361\\2 MIRA STR\\RAMENSKOE\\140105    RUSRUS</td>\n",
       "    </tr>\n",
       "    <tr>\n",
       "      <th>4</th>\n",
       "      <td>500000001639102687</td>\n",
       "      <td>1</td>\n",
       "      <td>29.10.2021 13:13:50</td>\n",
       "      <td>5814</td>\n",
       "      <td>290</td>\n",
       "      <td>RESTORAN MGRILLCAFE.\\LEVAYA STORONA 423-J KM A...</td>\n",
       "    </tr>\n",
       "    <tr>\n",
       "      <th>...</th>\n",
       "      <td>...</td>\n",
       "      <td>...</td>\n",
       "      <td>...</td>\n",
       "      <td>...</td>\n",
       "      <td>...</td>\n",
       "      <td>...</td>\n",
       "    </tr>\n",
       "    <tr>\n",
       "      <th>12845070</th>\n",
       "      <td>500000000054762689</td>\n",
       "      <td>2</td>\n",
       "      <td>03.07.2021 8:10:34</td>\n",
       "      <td>5411</td>\n",
       "      <td>1202</td>\n",
       "      <td>NaN</td>\n",
       "    </tr>\n",
       "    <tr>\n",
       "      <th>12845071</th>\n",
       "      <td>500000000002290038</td>\n",
       "      <td>1</td>\n",
       "      <td>09.08.2021</td>\n",
       "      <td>5411</td>\n",
       "      <td>955</td>\n",
       "      <td>NaN</td>\n",
       "    </tr>\n",
       "    <tr>\n",
       "      <th>12845072</th>\n",
       "      <td>500000000005033472</td>\n",
       "      <td>2</td>\n",
       "      <td>05.10.2021 14:42:52</td>\n",
       "      <td>5311</td>\n",
       "      <td>1198,1</td>\n",
       "      <td>NaN</td>\n",
       "    </tr>\n",
       "    <tr>\n",
       "      <th>12845073</th>\n",
       "      <td>500000000054330593</td>\n",
       "      <td>1</td>\n",
       "      <td>25.09.2021 21:21:02</td>\n",
       "      <td>5411</td>\n",
       "      <td>435,74</td>\n",
       "      <td>NaN</td>\n",
       "    </tr>\n",
       "    <tr>\n",
       "      <th>12845074</th>\n",
       "      <td>500000000124512381</td>\n",
       "      <td>1</td>\n",
       "      <td>15.09.2021 15:26:29</td>\n",
       "      <td>5912</td>\n",
       "      <td>148</td>\n",
       "      <td>NaN</td>\n",
       "    </tr>\n",
       "  </tbody>\n",
       "</table>\n",
       "<p>12845075 rows × 6 columns</p>\n",
       "</div>"
      ],
      "text/plain": [
       "                          ID  PROD_TYPE           TRANS_DTTM  MCC_CODE  \\\n",
       "0         500000001271933224          1  31.10.2021 16:04:58      5411   \n",
       "1         500000001089710588          2  20.08.2021 18:00:39      7311   \n",
       "2         500000000004725733          1   31.10.2021 7:28:47      5411   \n",
       "3         500000000608267511          2  31.10.2021 16:03:14      5411   \n",
       "4         500000001639102687          1  29.10.2021 13:13:50      5814   \n",
       "...                      ...        ...                  ...       ...   \n",
       "12845070  500000000054762689          2   03.07.2021 8:10:34      5411   \n",
       "12845071  500000000002290038          1           09.08.2021      5411   \n",
       "12845072  500000000005033472          2  05.10.2021 14:42:52      5311   \n",
       "12845073  500000000054330593          1  25.09.2021 21:21:02      5411   \n",
       "12845074  500000000124512381          1  15.09.2021 15:26:29      5912   \n",
       "\n",
       "         SUM_TRANS                                      LOCATION_NAME  \n",
       "0           411,45  VERNYJ 1263\\5A GORKOGO STR\\SERPUKHOV\\142203   ...  \n",
       "1              503        AVITO\\7 LESNAYA STR\\MOSCOW\\125196    RUSRUS  \n",
       "2           119,24  STOLITSA\\14 POBEDY PR-T\\KOMSOM-NA-AMU\\681029  ...  \n",
       "3           249,95  VERNYJ 1361\\2 MIRA STR\\RAMENSKOE\\140105    RUSRUS  \n",
       "4              290  RESTORAN MGRILLCAFE.\\LEVAYA STORONA 423-J KM A...  \n",
       "...            ...                                                ...  \n",
       "12845070      1202                                                NaN  \n",
       "12845071       955                                                NaN  \n",
       "12845072    1198,1                                                NaN  \n",
       "12845073    435,74                                                NaN  \n",
       "12845074       148                                                NaN  \n",
       "\n",
       "[12845075 rows x 6 columns]"
      ]
     },
     "execution_count": 3,
     "metadata": {},
     "output_type": "execute_result"
    }
   ],
   "source": [
    "df"
   ]
  },
  {
   "cell_type": "markdown",
   "id": "2e385025",
   "metadata": {},
   "source": [
    "# очистка"
   ]
  },
  {
   "cell_type": "code",
   "execution_count": 4,
   "id": "84b9b8d5",
   "metadata": {},
   "outputs": [
    {
     "data": {
      "text/plain": [
       "ID                      0\n",
       "PROD_TYPE               0\n",
       "TRANS_DTTM              0\n",
       "MCC_CODE                0\n",
       "SUM_TRANS               0\n",
       "LOCATION_NAME    10582071\n",
       "dtype: int64"
      ]
     },
     "execution_count": 4,
     "metadata": {},
     "output_type": "execute_result"
    }
   ],
   "source": [
    "df.isna().sum()"
   ]
  },
  {
   "cell_type": "markdown",
   "id": "6c460d72",
   "metadata": {},
   "source": [
    "df.dropna()"
   ]
  },
  {
   "cell_type": "code",
   "execution_count": 5,
   "id": "bc9b0a8d",
   "metadata": {},
   "outputs": [],
   "source": [
    "df.drop('LOCATION_NAME', axis=1, inplace=True)"
   ]
  },
  {
   "cell_type": "markdown",
   "id": "2b10a0e5",
   "metadata": {},
   "source": [
    "# Convert to int"
   ]
  },
  {
   "cell_type": "markdown",
   "id": "2fe53b02",
   "metadata": {},
   "source": [
    "df['Категория'] = pd.factorize(df['Категория'])[0]"
   ]
  },
  {
   "cell_type": "code",
   "execution_count": 6,
   "id": "549966e2",
   "metadata": {},
   "outputs": [
    {
     "name": "stdout",
     "output_type": "stream",
     "text": [
      "<class 'pandas.core.frame.DataFrame'>\n",
      "RangeIndex: 12845075 entries, 0 to 12845074\n",
      "Data columns (total 5 columns):\n",
      " #   Column      Dtype \n",
      "---  ------      ----- \n",
      " 0   ID          int64 \n",
      " 1   PROD_TYPE   int64 \n",
      " 2   TRANS_DTTM  object\n",
      " 3   MCC_CODE    int64 \n",
      " 4   SUM_TRANS   object\n",
      "dtypes: int64(3), object(2)\n",
      "memory usage: 490.0+ MB\n"
     ]
    }
   ],
   "source": [
    "df.info()"
   ]
  },
  {
   "cell_type": "code",
   "execution_count": 7,
   "id": "bb222880",
   "metadata": {},
   "outputs": [],
   "source": [
    "df['TRANS_DTTM'] = df['TRANS_DTTM'].apply(lambda x : re.sub(r'..:..:..$','',x))"
   ]
  },
  {
   "cell_type": "code",
   "execution_count": 8,
   "id": "5e8a5bbd",
   "metadata": {},
   "outputs": [
    {
     "data": {
      "text/html": [
       "<div>\n",
       "<style scoped>\n",
       "    .dataframe tbody tr th:only-of-type {\n",
       "        vertical-align: middle;\n",
       "    }\n",
       "\n",
       "    .dataframe tbody tr th {\n",
       "        vertical-align: top;\n",
       "    }\n",
       "\n",
       "    .dataframe thead th {\n",
       "        text-align: right;\n",
       "    }\n",
       "</style>\n",
       "<table border=\"1\" class=\"dataframe\">\n",
       "  <thead>\n",
       "    <tr style=\"text-align: right;\">\n",
       "      <th></th>\n",
       "      <th>ID</th>\n",
       "      <th>PROD_TYPE</th>\n",
       "      <th>TRANS_DTTM</th>\n",
       "      <th>MCC_CODE</th>\n",
       "      <th>SUM_TRANS</th>\n",
       "    </tr>\n",
       "  </thead>\n",
       "  <tbody>\n",
       "    <tr>\n",
       "      <th>0</th>\n",
       "      <td>500000001271933224</td>\n",
       "      <td>1</td>\n",
       "      <td>31.10.2021</td>\n",
       "      <td>5411</td>\n",
       "      <td>411,45</td>\n",
       "    </tr>\n",
       "    <tr>\n",
       "      <th>1</th>\n",
       "      <td>500000001089710588</td>\n",
       "      <td>2</td>\n",
       "      <td>20.08.2021</td>\n",
       "      <td>7311</td>\n",
       "      <td>503</td>\n",
       "    </tr>\n",
       "    <tr>\n",
       "      <th>2</th>\n",
       "      <td>500000000004725733</td>\n",
       "      <td>1</td>\n",
       "      <td>31.10.2021</td>\n",
       "      <td>5411</td>\n",
       "      <td>119,24</td>\n",
       "    </tr>\n",
       "    <tr>\n",
       "      <th>3</th>\n",
       "      <td>500000000608267511</td>\n",
       "      <td>2</td>\n",
       "      <td>31.10.2021</td>\n",
       "      <td>5411</td>\n",
       "      <td>249,95</td>\n",
       "    </tr>\n",
       "    <tr>\n",
       "      <th>4</th>\n",
       "      <td>500000001639102687</td>\n",
       "      <td>1</td>\n",
       "      <td>29.10.2021</td>\n",
       "      <td>5814</td>\n",
       "      <td>290</td>\n",
       "    </tr>\n",
       "    <tr>\n",
       "      <th>...</th>\n",
       "      <td>...</td>\n",
       "      <td>...</td>\n",
       "      <td>...</td>\n",
       "      <td>...</td>\n",
       "      <td>...</td>\n",
       "    </tr>\n",
       "    <tr>\n",
       "      <th>12845070</th>\n",
       "      <td>500000000054762689</td>\n",
       "      <td>2</td>\n",
       "      <td>03.07.2021</td>\n",
       "      <td>5411</td>\n",
       "      <td>1202</td>\n",
       "    </tr>\n",
       "    <tr>\n",
       "      <th>12845071</th>\n",
       "      <td>500000000002290038</td>\n",
       "      <td>1</td>\n",
       "      <td>09.08.2021</td>\n",
       "      <td>5411</td>\n",
       "      <td>955</td>\n",
       "    </tr>\n",
       "    <tr>\n",
       "      <th>12845072</th>\n",
       "      <td>500000000005033472</td>\n",
       "      <td>2</td>\n",
       "      <td>05.10.2021</td>\n",
       "      <td>5311</td>\n",
       "      <td>1198,1</td>\n",
       "    </tr>\n",
       "    <tr>\n",
       "      <th>12845073</th>\n",
       "      <td>500000000054330593</td>\n",
       "      <td>1</td>\n",
       "      <td>25.09.2021</td>\n",
       "      <td>5411</td>\n",
       "      <td>435,74</td>\n",
       "    </tr>\n",
       "    <tr>\n",
       "      <th>12845074</th>\n",
       "      <td>500000000124512381</td>\n",
       "      <td>1</td>\n",
       "      <td>15.09.2021</td>\n",
       "      <td>5912</td>\n",
       "      <td>148</td>\n",
       "    </tr>\n",
       "  </tbody>\n",
       "</table>\n",
       "<p>12845075 rows × 5 columns</p>\n",
       "</div>"
      ],
      "text/plain": [
       "                          ID  PROD_TYPE   TRANS_DTTM  MCC_CODE SUM_TRANS\n",
       "0         500000001271933224          1  31.10.2021       5411    411,45\n",
       "1         500000001089710588          2  20.08.2021       7311       503\n",
       "2         500000000004725733          1   31.10.2021      5411    119,24\n",
       "3         500000000608267511          2  31.10.2021       5411    249,95\n",
       "4         500000001639102687          1  29.10.2021       5814       290\n",
       "...                      ...        ...          ...       ...       ...\n",
       "12845070  500000000054762689          2   03.07.2021      5411      1202\n",
       "12845071  500000000002290038          1   09.08.2021      5411       955\n",
       "12845072  500000000005033472          2  05.10.2021       5311    1198,1\n",
       "12845073  500000000054330593          1  25.09.2021       5411    435,74\n",
       "12845074  500000000124512381          1  15.09.2021       5912       148\n",
       "\n",
       "[12845075 rows x 5 columns]"
      ]
     },
     "execution_count": 8,
     "metadata": {},
     "output_type": "execute_result"
    }
   ],
   "source": [
    "df"
   ]
  },
  {
   "cell_type": "code",
   "execution_count": 9,
   "id": "29ee945c",
   "metadata": {},
   "outputs": [],
   "source": [
    "df['TRANS_DTTM'] = df['TRANS_DTTM'].apply(lambda x : re.sub(r' ','',x))"
   ]
  },
  {
   "cell_type": "code",
   "execution_count": 10,
   "id": "ced105b1",
   "metadata": {},
   "outputs": [],
   "source": [
    "df['TRANS_DTTM'] = pd.to_datetime(df['TRANS_DTTM'], format='%d.%m.%Y')\n",
    "\n",
    "df['Day'] = df['TRANS_DTTM'].dt.day\n",
    "df['Month'] = df['TRANS_DTTM'].dt.month\n",
    "df['Year'] = df['TRANS_DTTM'].dt.year\n",
    "df.drop('TRANS_DTTM', axis=1, inplace=True)"
   ]
  },
  {
   "cell_type": "code",
   "execution_count": 11,
   "id": "2ebf9714",
   "metadata": {},
   "outputs": [
    {
     "data": {
      "text/html": [
       "<div>\n",
       "<style scoped>\n",
       "    .dataframe tbody tr th:only-of-type {\n",
       "        vertical-align: middle;\n",
       "    }\n",
       "\n",
       "    .dataframe tbody tr th {\n",
       "        vertical-align: top;\n",
       "    }\n",
       "\n",
       "    .dataframe thead th {\n",
       "        text-align: right;\n",
       "    }\n",
       "</style>\n",
       "<table border=\"1\" class=\"dataframe\">\n",
       "  <thead>\n",
       "    <tr style=\"text-align: right;\">\n",
       "      <th></th>\n",
       "      <th>ID</th>\n",
       "      <th>PROD_TYPE</th>\n",
       "      <th>MCC_CODE</th>\n",
       "      <th>SUM_TRANS</th>\n",
       "      <th>Day</th>\n",
       "      <th>Month</th>\n",
       "      <th>Year</th>\n",
       "    </tr>\n",
       "  </thead>\n",
       "  <tbody>\n",
       "    <tr>\n",
       "      <th>0</th>\n",
       "      <td>500000001271933224</td>\n",
       "      <td>1</td>\n",
       "      <td>5411</td>\n",
       "      <td>411,45</td>\n",
       "      <td>31</td>\n",
       "      <td>10</td>\n",
       "      <td>2021</td>\n",
       "    </tr>\n",
       "    <tr>\n",
       "      <th>1</th>\n",
       "      <td>500000001089710588</td>\n",
       "      <td>2</td>\n",
       "      <td>7311</td>\n",
       "      <td>503</td>\n",
       "      <td>20</td>\n",
       "      <td>8</td>\n",
       "      <td>2021</td>\n",
       "    </tr>\n",
       "    <tr>\n",
       "      <th>2</th>\n",
       "      <td>500000000004725733</td>\n",
       "      <td>1</td>\n",
       "      <td>5411</td>\n",
       "      <td>119,24</td>\n",
       "      <td>31</td>\n",
       "      <td>10</td>\n",
       "      <td>2021</td>\n",
       "    </tr>\n",
       "    <tr>\n",
       "      <th>3</th>\n",
       "      <td>500000000608267511</td>\n",
       "      <td>2</td>\n",
       "      <td>5411</td>\n",
       "      <td>249,95</td>\n",
       "      <td>31</td>\n",
       "      <td>10</td>\n",
       "      <td>2021</td>\n",
       "    </tr>\n",
       "    <tr>\n",
       "      <th>4</th>\n",
       "      <td>500000001639102687</td>\n",
       "      <td>1</td>\n",
       "      <td>5814</td>\n",
       "      <td>290</td>\n",
       "      <td>29</td>\n",
       "      <td>10</td>\n",
       "      <td>2021</td>\n",
       "    </tr>\n",
       "    <tr>\n",
       "      <th>...</th>\n",
       "      <td>...</td>\n",
       "      <td>...</td>\n",
       "      <td>...</td>\n",
       "      <td>...</td>\n",
       "      <td>...</td>\n",
       "      <td>...</td>\n",
       "      <td>...</td>\n",
       "    </tr>\n",
       "    <tr>\n",
       "      <th>12845070</th>\n",
       "      <td>500000000054762689</td>\n",
       "      <td>2</td>\n",
       "      <td>5411</td>\n",
       "      <td>1202</td>\n",
       "      <td>3</td>\n",
       "      <td>7</td>\n",
       "      <td>2021</td>\n",
       "    </tr>\n",
       "    <tr>\n",
       "      <th>12845071</th>\n",
       "      <td>500000000002290038</td>\n",
       "      <td>1</td>\n",
       "      <td>5411</td>\n",
       "      <td>955</td>\n",
       "      <td>9</td>\n",
       "      <td>8</td>\n",
       "      <td>2021</td>\n",
       "    </tr>\n",
       "    <tr>\n",
       "      <th>12845072</th>\n",
       "      <td>500000000005033472</td>\n",
       "      <td>2</td>\n",
       "      <td>5311</td>\n",
       "      <td>1198,1</td>\n",
       "      <td>5</td>\n",
       "      <td>10</td>\n",
       "      <td>2021</td>\n",
       "    </tr>\n",
       "    <tr>\n",
       "      <th>12845073</th>\n",
       "      <td>500000000054330593</td>\n",
       "      <td>1</td>\n",
       "      <td>5411</td>\n",
       "      <td>435,74</td>\n",
       "      <td>25</td>\n",
       "      <td>9</td>\n",
       "      <td>2021</td>\n",
       "    </tr>\n",
       "    <tr>\n",
       "      <th>12845074</th>\n",
       "      <td>500000000124512381</td>\n",
       "      <td>1</td>\n",
       "      <td>5912</td>\n",
       "      <td>148</td>\n",
       "      <td>15</td>\n",
       "      <td>9</td>\n",
       "      <td>2021</td>\n",
       "    </tr>\n",
       "  </tbody>\n",
       "</table>\n",
       "<p>12845075 rows × 7 columns</p>\n",
       "</div>"
      ],
      "text/plain": [
       "                          ID  PROD_TYPE  MCC_CODE SUM_TRANS  Day  Month  Year\n",
       "0         500000001271933224          1      5411    411,45   31     10  2021\n",
       "1         500000001089710588          2      7311       503   20      8  2021\n",
       "2         500000000004725733          1      5411    119,24   31     10  2021\n",
       "3         500000000608267511          2      5411    249,95   31     10  2021\n",
       "4         500000001639102687          1      5814       290   29     10  2021\n",
       "...                      ...        ...       ...       ...  ...    ...   ...\n",
       "12845070  500000000054762689          2      5411      1202    3      7  2021\n",
       "12845071  500000000002290038          1      5411       955    9      8  2021\n",
       "12845072  500000000005033472          2      5311    1198,1    5     10  2021\n",
       "12845073  500000000054330593          1      5411    435,74   25      9  2021\n",
       "12845074  500000000124512381          1      5912       148   15      9  2021\n",
       "\n",
       "[12845075 rows x 7 columns]"
      ]
     },
     "execution_count": 11,
     "metadata": {},
     "output_type": "execute_result"
    }
   ],
   "source": [
    "df"
   ]
  },
  {
   "cell_type": "code",
   "execution_count": 12,
   "id": "42f45486",
   "metadata": {},
   "outputs": [],
   "source": [
    "df['SUM_TRANS'] = df['SUM_TRANS'].apply(lambda x : re.sub(r',','.',x))"
   ]
  },
  {
   "cell_type": "markdown",
   "id": "fb9970de",
   "metadata": {},
   "source": [
    "# Кластеризация"
   ]
  },
  {
   "cell_type": "code",
   "execution_count": 13,
   "id": "fa775352",
   "metadata": {},
   "outputs": [
    {
     "data": {
      "text/plain": [
       "array([[ 5.28715968e+08, -1.23819714e+00, -1.18548014e-01, ...,\n",
       "         1.67719129e+00,  1.36844050e+00,  0.00000000e+00],\n",
       "       [ 3.46493312e+08,  8.07625833e-01,  3.30616716e+00, ...,\n",
       "         4.40471535e-01, -4.25694395e-01,  0.00000000e+00],\n",
       "       [-7.38491520e+08, -1.23819714e+00, -1.18548014e-01, ...,\n",
       "         1.67719129e+00,  1.36844050e+00,  0.00000000e+00],\n",
       "       ...,\n",
       "       [-7.38183808e+08,  8.07625833e-01, -2.98796182e-01, ...,\n",
       "        -1.24596450e+00,  1.36844050e+00,  0.00000000e+00],\n",
       "       [-6.88886656e+08, -1.23819714e+00, -1.18548014e-01, ...,\n",
       "         1.00261688e+00,  4.71373054e-01,  0.00000000e+00],\n",
       "       [-6.18704896e+08, -1.23819714e+00,  7.84495304e-01, ...,\n",
       "        -1.21673809e-01,  4.71373054e-01,  0.00000000e+00]])"
      ]
     },
     "execution_count": 13,
     "metadata": {},
     "output_type": "execute_result"
    }
   ],
   "source": [
    "scaler = StandardScaler()\n",
    "scaled_X = scaler.fit_transform(df)\n",
    "scaled_X"
   ]
  },
  {
   "cell_type": "markdown",
   "id": "fa4e65d9",
   "metadata": {},
   "source": [
    "scaler - берет среднее значение столбца и сравнивает с всеми"
   ]
  },
  {
   "cell_type": "code",
   "execution_count": 14,
   "id": "71331f17",
   "metadata": {},
   "outputs": [
    {
     "data": {
      "text/plain": [
       "array([0, 0, 0, ..., 0, 0, 0])"
      ]
     },
     "execution_count": 14,
     "metadata": {},
     "output_type": "execute_result"
    }
   ],
   "source": [
    "model = KMeans(n_clusters=2)\n",
    "cluster_labels = model.fit_predict(scaled_X)\n",
    "cluster_labels"
   ]
  },
  {
   "cell_type": "markdown",
   "id": "f7fbf413",
   "metadata": {},
   "source": [
    "создание модели и использование её на наших данных"
   ]
  },
  {
   "cell_type": "code",
   "execution_count": 15,
   "id": "1c64dfa6",
   "metadata": {},
   "outputs": [],
   "source": [
    "df['Cluster'] = cluster_labels"
   ]
  },
  {
   "cell_type": "markdown",
   "id": "27ff1f64",
   "metadata": {},
   "source": [
    "добавление нового столбца с ID кластера"
   ]
  },
  {
   "cell_type": "code",
   "execution_count": 16,
   "id": "47102174",
   "metadata": {},
   "outputs": [
    {
     "data": {
      "text/html": [
       "<div>\n",
       "<style scoped>\n",
       "    .dataframe tbody tr th:only-of-type {\n",
       "        vertical-align: middle;\n",
       "    }\n",
       "\n",
       "    .dataframe tbody tr th {\n",
       "        vertical-align: top;\n",
       "    }\n",
       "\n",
       "    .dataframe thead th {\n",
       "        text-align: right;\n",
       "    }\n",
       "</style>\n",
       "<table border=\"1\" class=\"dataframe\">\n",
       "  <thead>\n",
       "    <tr style=\"text-align: right;\">\n",
       "      <th></th>\n",
       "      <th>ID</th>\n",
       "      <th>PROD_TYPE</th>\n",
       "      <th>MCC_CODE</th>\n",
       "      <th>SUM_TRANS</th>\n",
       "      <th>Day</th>\n",
       "      <th>Month</th>\n",
       "      <th>Year</th>\n",
       "      <th>Cluster</th>\n",
       "    </tr>\n",
       "  </thead>\n",
       "  <tbody>\n",
       "    <tr>\n",
       "      <th>0</th>\n",
       "      <td>500000001271933224</td>\n",
       "      <td>1</td>\n",
       "      <td>5411</td>\n",
       "      <td>411.45</td>\n",
       "      <td>31</td>\n",
       "      <td>10</td>\n",
       "      <td>2021</td>\n",
       "      <td>0</td>\n",
       "    </tr>\n",
       "    <tr>\n",
       "      <th>1</th>\n",
       "      <td>500000001089710588</td>\n",
       "      <td>2</td>\n",
       "      <td>7311</td>\n",
       "      <td>503</td>\n",
       "      <td>20</td>\n",
       "      <td>8</td>\n",
       "      <td>2021</td>\n",
       "      <td>0</td>\n",
       "    </tr>\n",
       "    <tr>\n",
       "      <th>2</th>\n",
       "      <td>500000000004725733</td>\n",
       "      <td>1</td>\n",
       "      <td>5411</td>\n",
       "      <td>119.24</td>\n",
       "      <td>31</td>\n",
       "      <td>10</td>\n",
       "      <td>2021</td>\n",
       "      <td>0</td>\n",
       "    </tr>\n",
       "    <tr>\n",
       "      <th>3</th>\n",
       "      <td>500000000608267511</td>\n",
       "      <td>2</td>\n",
       "      <td>5411</td>\n",
       "      <td>249.95</td>\n",
       "      <td>31</td>\n",
       "      <td>10</td>\n",
       "      <td>2021</td>\n",
       "      <td>0</td>\n",
       "    </tr>\n",
       "    <tr>\n",
       "      <th>4</th>\n",
       "      <td>500000001639102687</td>\n",
       "      <td>1</td>\n",
       "      <td>5814</td>\n",
       "      <td>290</td>\n",
       "      <td>29</td>\n",
       "      <td>10</td>\n",
       "      <td>2021</td>\n",
       "      <td>1</td>\n",
       "    </tr>\n",
       "    <tr>\n",
       "      <th>...</th>\n",
       "      <td>...</td>\n",
       "      <td>...</td>\n",
       "      <td>...</td>\n",
       "      <td>...</td>\n",
       "      <td>...</td>\n",
       "      <td>...</td>\n",
       "      <td>...</td>\n",
       "      <td>...</td>\n",
       "    </tr>\n",
       "    <tr>\n",
       "      <th>12845070</th>\n",
       "      <td>500000000054762689</td>\n",
       "      <td>2</td>\n",
       "      <td>5411</td>\n",
       "      <td>1202</td>\n",
       "      <td>3</td>\n",
       "      <td>7</td>\n",
       "      <td>2021</td>\n",
       "      <td>0</td>\n",
       "    </tr>\n",
       "    <tr>\n",
       "      <th>12845071</th>\n",
       "      <td>500000000002290038</td>\n",
       "      <td>1</td>\n",
       "      <td>5411</td>\n",
       "      <td>955</td>\n",
       "      <td>9</td>\n",
       "      <td>8</td>\n",
       "      <td>2021</td>\n",
       "      <td>0</td>\n",
       "    </tr>\n",
       "    <tr>\n",
       "      <th>12845072</th>\n",
       "      <td>500000000005033472</td>\n",
       "      <td>2</td>\n",
       "      <td>5311</td>\n",
       "      <td>1198.1</td>\n",
       "      <td>5</td>\n",
       "      <td>10</td>\n",
       "      <td>2021</td>\n",
       "      <td>0</td>\n",
       "    </tr>\n",
       "    <tr>\n",
       "      <th>12845073</th>\n",
       "      <td>500000000054330593</td>\n",
       "      <td>1</td>\n",
       "      <td>5411</td>\n",
       "      <td>435.74</td>\n",
       "      <td>25</td>\n",
       "      <td>9</td>\n",
       "      <td>2021</td>\n",
       "      <td>0</td>\n",
       "    </tr>\n",
       "    <tr>\n",
       "      <th>12845074</th>\n",
       "      <td>500000000124512381</td>\n",
       "      <td>1</td>\n",
       "      <td>5912</td>\n",
       "      <td>148</td>\n",
       "      <td>15</td>\n",
       "      <td>9</td>\n",
       "      <td>2021</td>\n",
       "      <td>0</td>\n",
       "    </tr>\n",
       "  </tbody>\n",
       "</table>\n",
       "<p>12845075 rows × 8 columns</p>\n",
       "</div>"
      ],
      "text/plain": [
       "                          ID  PROD_TYPE  MCC_CODE SUM_TRANS  Day  Month  Year  \\\n",
       "0         500000001271933224          1      5411    411.45   31     10  2021   \n",
       "1         500000001089710588          2      7311       503   20      8  2021   \n",
       "2         500000000004725733          1      5411    119.24   31     10  2021   \n",
       "3         500000000608267511          2      5411    249.95   31     10  2021   \n",
       "4         500000001639102687          1      5814       290   29     10  2021   \n",
       "...                      ...        ...       ...       ...  ...    ...   ...   \n",
       "12845070  500000000054762689          2      5411      1202    3      7  2021   \n",
       "12845071  500000000002290038          1      5411       955    9      8  2021   \n",
       "12845072  500000000005033472          2      5311    1198.1    5     10  2021   \n",
       "12845073  500000000054330593          1      5411    435.74   25      9  2021   \n",
       "12845074  500000000124512381          1      5912       148   15      9  2021   \n",
       "\n",
       "          Cluster  \n",
       "0               0  \n",
       "1               0  \n",
       "2               0  \n",
       "3               0  \n",
       "4               1  \n",
       "...           ...  \n",
       "12845070        0  \n",
       "12845071        0  \n",
       "12845072        0  \n",
       "12845073        0  \n",
       "12845074        0  \n",
       "\n",
       "[12845075 rows x 8 columns]"
      ]
     },
     "execution_count": 16,
     "metadata": {},
     "output_type": "execute_result"
    }
   ],
   "source": [
    "df"
   ]
  },
  {
   "cell_type": "code",
   "execution_count": 17,
   "id": "16907b96",
   "metadata": {},
   "outputs": [
    {
     "data": {
      "text/plain": [
       "<AxesSubplot:>"
      ]
     },
     "execution_count": 17,
     "metadata": {},
     "output_type": "execute_result"
    },
    {
     "data": {
      "image/png": "[encoded data removed]",
      "text/plain": [
       "<Figure size 640x480 with 2 Axes>"
      ]
     },
     "metadata": {},
     "output_type": "display_data"
    }
   ],
   "source": [
    "import seaborn as sns\n",
    "sns.heatmap(df.corr())"
   ]
  },
  {
   "cell_type": "markdown",
   "id": "f9432441",
   "metadata": {},
   "source": [
    "визуализация зависимостей столбцов"
   ]
  },
  {
   "cell_type": "code",
   "execution_count": 18,
   "id": "2e330879",
   "metadata": {},
   "outputs": [
    {
     "data": {
      "text/plain": [
       "ID           0.915190\n",
       "PROD_TYPE   -0.008312\n",
       "MCC_CODE    -0.007760\n",
       "Day          0.007587\n",
       "Month        0.017706\n",
       "Year              NaN\n",
       "Cluster      1.000000\n",
       "Name: Cluster, dtype: float64"
      ]
     },
     "execution_count": 18,
     "metadata": {},
     "output_type": "execute_result"
    }
   ],
   "source": [
    "df.corr()['Cluster']"
   ]
  },
  {
   "cell_type": "markdown",
   "id": "142761df",
   "metadata": {},
   "source": [
    "зависимость кластера от столбцов"
   ]
  },
  {
   "cell_type": "code",
   "execution_count": 19,
   "id": "308df222",
   "metadata": {},
   "outputs": [
    {
     "data": {
      "text/plain": [
       "<AxesSubplot:>"
      ]
     },
     "execution_count": 19,
     "metadata": {},
     "output_type": "execute_result"
    },
    {
     "data": {
      "image/png": "[encoded data removed]",
      "text/plain": [
       "<Figure size 2400x1200 with 1 Axes>"
      ]
     },
     "metadata": {},
     "output_type": "display_data"
    }
   ],
   "source": [
    "import matplotlib.pyplot as plt\n",
    "plt.figure(figsize=(12,6),dpi=200)\n",
    "df.corr()['Cluster'].iloc[:-1].sort_values().plot(kind='bar')"
   ]
  },
  {
   "cell_type": "markdown",
   "id": "053eee97",
   "metadata": {},
   "source": [
    "зависимость кластера от столбцов c визуализацией"
   ]
  },
  {
   "cell_type": "code",
   "execution_count": null,
   "id": "e62daca0",
   "metadata": {},
   "outputs": [
    {
     "name": "stderr",
     "output_type": "stream",
     "text": [
      " 25%|█████████████████████                                                               | 2/8 [01:22<04:16, 42.74s/it]"
     ]
    }
   ],
   "source": [
    "from tqdm import tqdm\n",
    "ssd = []\n",
    "for k in tqdm(range(2,10)):\n",
    "    model = KMeans(n_clusters=k)\n",
    "    model.fit(scaled_X)\n",
    "    ssd.append(model.inertia_)"
   ]
  },
  {
   "cell_type": "markdown",
   "id": "d006fead",
   "metadata": {},
   "source": [
    "ssd это значение насколько близкие значения находятся в кластере/"
   ]
  },
  {
   "cell_type": "code",
   "execution_count": null,
   "id": "02bc3972",
   "metadata": {},
   "outputs": [],
   "source": [
    "plt.plot(range(2,10),ssd,'o--')\n",
    "plt.xlabel(\"K Value\")\n",
    "plt.ylabel(\" Sum of Squared Distances\")"
   ]
  },
  {
   "cell_type": "markdown",
   "id": "bc1c06ff",
   "metadata": {},
   "source": [
    "визуализация уменьшения SSD"
   ]
  },
  {
   "cell_type": "code",
   "execution_count": null,
   "id": "13b74277",
   "metadata": {},
   "outputs": [],
   "source": [
    "pd.Series(ssd).diff().plot(kind='bar')"
   ]
  },
  {
   "cell_type": "markdown",
   "id": "df49cde0",
   "metadata": {},
   "source": [
    "визуализация изменения SSD с увеличением кластеров"
   ]
  },
  {
   "cell_type": "code",
   "execution_count": null,
   "id": "e9acdf8a",
   "metadata": {},
   "outputs": [],
   "source": []
  }
 ],
 "metadata": {
  "kernelspec": {
   "display_name": "Python 3 (ipykernel)",
   "language": "python",
   "name": "python3"
  },
  "language_info": {
   "codemirror_mode": {
    "name": "ipython",
    "version": 3
   },
   "file_extension": ".py",
   "mimetype": "text/x-python",
   "name": "python",
   "nbconvert_exporter": "python",
   "pygments_lexer": "ipython3",
   "version": "3.11.4"
  }
 },
 "nbformat": 4,
 "nbformat_minor": 5
}
